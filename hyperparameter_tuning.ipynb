{
 "cells": [
  {
   "cell_type": "markdown",
   "metadata": {},
   "source": [
    "# Hyperparameter tuning\n",
    "Using a random search.  \n",
    "Notes:\n",
    "* From experiment 4. Key words increased from ['spicy', 'chinese', 'fish', 'easy', 'indian'] to ['spicy', 'chinese', 'fish', 'easy', 'indian', 'lamb', 'pork', 'dessert', 'health', 'italian']"
   ]
  },
  {
   "cell_type": "code",
   "execution_count": 2,
   "metadata": {},
   "outputs": [],
   "source": [
    "import numpy as np\n",
    "import pandas as pd\n",
    "import matplotlib.pyplot as plt\n",
    "from linucb import LinUCBModel\n",
    "from sklearn.decomposition import PCA\n",
    "\n",
    "from preprocessing import embed_mix\n",
    "from evaluation import evaluate\n",
    "\n",
    "import spacy\n",
    "nlp = spacy.load('en_core_web_md')"
   ]
  },
  {
   "cell_type": "code",
   "execution_count": 3,
   "metadata": {},
   "outputs": [],
   "source": [
    "df = pd.read_json('recipe_scraper/all_cuisines.json')\n",
    "\n",
    "\n",
    "X_title = np.stack(df['title'].apply(lambda x : nlp(x).vector))\n",
    "X_summary = np.stack(df['summary'].apply(lambda x : nlp(x).vector))\n",
    "X_tags = np.stack(df['tags'].apply(lambda x : nlp(' '.join([xi for xi in x])).vector))"
   ]
  },
  {
   "cell_type": "markdown",
   "metadata": {},
   "source": [
    "Tuning"
   ]
  },
  {
   "cell_type": "code",
   "execution_count": 13,
   "metadata": {},
   "outputs": [],
   "source": [
    "N_samples=5\n",
    "key_words = ['spicy', 'chinese', 'fish', 'easy', 'indian', 'lamb', 'pork', 'dessert', 'health', 'italian']\n",
    "\n",
    "tuning_results = pd.DataFrame({'metric':[],\n",
    "                              'alpha_title':[],\n",
    "                              'alpha_summary':[],\n",
    "                              'alpha_tags':[],\n",
    "                              'embed_dim':[],\n",
    "                              'linucb_alpha':[]\n",
    "                             })\n",
    "\n",
    "for n in range(N_samples):\n",
    "    \n",
    "    # random hyperparameter search\n",
    "    alpha_title = np.random.rand()\n",
    "    alpha_summary = np.random.rand()\n",
    "    alpha_tags = np.random.rand()\n",
    "    embed_dim = np.random.choice([50, 75, 100, 125, 150])\n",
    "    linucb_alpha = np.random.rand()\n",
    "    \n",
    "    # linear combination of title/summary/tags embeddings.\n",
    "    X = embed_mix(X_title, X_summary, X_tags, [alpha_title, alpha_summary, alpha_tags])\n",
    "    \n",
    "    # principle component analysis\n",
    "    X = PCA(n_components=embed_dim).fit_transform(X)\n",
    "    \n",
    "    # normalise and add unit dimension\n",
    "    X = X/np.linalg.norm(X, axis=1, keepdims=True)\n",
    "    X = np.concatenate([X, np.ones((X.shape[0], 1))], axis=1)\n",
    "    \n",
    "    # function that returns an initialised model object.\n",
    "    model_gen = lambda : LinUCBModel(X, alpha=linucb_alpha)\n",
    "    \n",
    "    metric = evaluate(df, model_gen, key_words=key_words)\n",
    "    \n",
    "    tuning_results = tuning_results.append(pd.DataFrame({'metric':[metric],\n",
    "                                                          'alpha_title':[alpha_title],\n",
    "                                                          'alpha_summary':[alpha_summary],\n",
    "                                                          'alpha_tags':[alpha_tags],\n",
    "                                                          'embed_dim':[embed_dim],\n",
    "                                                          'linucb_alpha':[linucb_alpha]\n",
    "                                                         }\n",
    "                                                       ),\n",
    "                                           ignore_index=True\n",
    "                                          )\n",
    "\n",
    "# append results to store to save all experiment data\n",
    "\n",
    "tuning_results_store = pd.read_csv('tuning_results_store.csv')\n",
    "\n",
    "tuning_results['date_time'] = pd.Timestamp.now()\n",
    "tuning_results['exp_id'] = tuning_results_store['exp_id'].max() + 1\n",
    "tuning_results['run_id'] = tuning_results.index\n",
    "\n",
    "tuning_results_store = tuning_results_store.append(tuning_results, ignore_index=True)\n",
    "tuning_results_store.to_csv('tuning_results_store.csv', index=False)"
   ]
  },
  {
   "cell_type": "code",
   "execution_count": 14,
   "metadata": {},
   "outputs": [
    {
     "data": {
      "text/html": [
       "<div>\n",
       "<style scoped>\n",
       "    .dataframe tbody tr th:only-of-type {\n",
       "        vertical-align: middle;\n",
       "    }\n",
       "\n",
       "    .dataframe tbody tr th {\n",
       "        vertical-align: top;\n",
       "    }\n",
       "\n",
       "    .dataframe thead th {\n",
       "        text-align: right;\n",
       "    }\n",
       "</style>\n",
       "<table border=\"1\" class=\"dataframe\">\n",
       "  <thead>\n",
       "    <tr style=\"text-align: right;\">\n",
       "      <th></th>\n",
       "      <th>metric</th>\n",
       "      <th>alpha_title</th>\n",
       "      <th>alpha_summary</th>\n",
       "      <th>alpha_tags</th>\n",
       "      <th>embed_dim</th>\n",
       "      <th>linucb_alpha</th>\n",
       "      <th>date_time</th>\n",
       "      <th>run_id</th>\n",
       "      <th>exp_id</th>\n",
       "    </tr>\n",
       "  </thead>\n",
       "  <tbody>\n",
       "    <tr>\n",
       "      <th>0</th>\n",
       "      <td>6.530</td>\n",
       "      <td>0.204227</td>\n",
       "      <td>0.844016</td>\n",
       "      <td>0.619194</td>\n",
       "      <td>64.0</td>\n",
       "      <td>0.448282</td>\n",
       "      <td>2021-03-20 07:55:09.947522</td>\n",
       "      <td>0</td>\n",
       "      <td>0</td>\n",
       "    </tr>\n",
       "    <tr>\n",
       "      <th>1</th>\n",
       "      <td>6.650</td>\n",
       "      <td>0.697654</td>\n",
       "      <td>0.620435</td>\n",
       "      <td>0.436997</td>\n",
       "      <td>32.0</td>\n",
       "      <td>0.439594</td>\n",
       "      <td>2021-03-20 07:55:09.947522</td>\n",
       "      <td>1</td>\n",
       "      <td>0</td>\n",
       "    </tr>\n",
       "    <tr>\n",
       "      <th>2</th>\n",
       "      <td>7.740</td>\n",
       "      <td>0.156857</td>\n",
       "      <td>0.117320</td>\n",
       "      <td>0.874268</td>\n",
       "      <td>128.0</td>\n",
       "      <td>0.113930</td>\n",
       "      <td>2021-03-20 07:55:09.947522</td>\n",
       "      <td>2</td>\n",
       "      <td>0</td>\n",
       "    </tr>\n",
       "    <tr>\n",
       "      <th>3</th>\n",
       "      <td>6.790</td>\n",
       "      <td>0.891280</td>\n",
       "      <td>0.790607</td>\n",
       "      <td>0.309218</td>\n",
       "      <td>150.0</td>\n",
       "      <td>1.606229</td>\n",
       "      <td>2021-03-20 08:11:17.864302</td>\n",
       "      <td>0</td>\n",
       "      <td>1</td>\n",
       "    </tr>\n",
       "    <tr>\n",
       "      <th>4</th>\n",
       "      <td>6.990</td>\n",
       "      <td>0.272805</td>\n",
       "      <td>0.334044</td>\n",
       "      <td>0.326977</td>\n",
       "      <td>50.0</td>\n",
       "      <td>1.888515</td>\n",
       "      <td>2021-03-20 08:11:17.864302</td>\n",
       "      <td>1</td>\n",
       "      <td>1</td>\n",
       "    </tr>\n",
       "    <tr>\n",
       "      <th>5</th>\n",
       "      <td>6.760</td>\n",
       "      <td>0.470196</td>\n",
       "      <td>0.496277</td>\n",
       "      <td>0.448109</td>\n",
       "      <td>50.0</td>\n",
       "      <td>1.760948</td>\n",
       "      <td>2021-03-20 08:11:17.864302</td>\n",
       "      <td>2</td>\n",
       "      <td>1</td>\n",
       "    </tr>\n",
       "    <tr>\n",
       "      <th>6</th>\n",
       "      <td>7.190</td>\n",
       "      <td>0.456952</td>\n",
       "      <td>0.140710</td>\n",
       "      <td>0.689346</td>\n",
       "      <td>125.0</td>\n",
       "      <td>0.340672</td>\n",
       "      <td>2021-03-20 08:11:17.864302</td>\n",
       "      <td>3</td>\n",
       "      <td>1</td>\n",
       "    </tr>\n",
       "    <tr>\n",
       "      <th>7</th>\n",
       "      <td>6.540</td>\n",
       "      <td>0.920012</td>\n",
       "      <td>0.392608</td>\n",
       "      <td>0.390364</td>\n",
       "      <td>125.0</td>\n",
       "      <td>1.509775</td>\n",
       "      <td>2021-03-20 08:11:17.864302</td>\n",
       "      <td>4</td>\n",
       "      <td>1</td>\n",
       "    </tr>\n",
       "    <tr>\n",
       "      <th>8</th>\n",
       "      <td>6.370</td>\n",
       "      <td>0.236603</td>\n",
       "      <td>0.882797</td>\n",
       "      <td>0.479563</td>\n",
       "      <td>150.0</td>\n",
       "      <td>0.821742</td>\n",
       "      <td>2021-03-20 08:18:56.216488</td>\n",
       "      <td>0</td>\n",
       "      <td>2</td>\n",
       "    </tr>\n",
       "    <tr>\n",
       "      <th>9</th>\n",
       "      <td>6.920</td>\n",
       "      <td>0.904772</td>\n",
       "      <td>0.543643</td>\n",
       "      <td>0.171517</td>\n",
       "      <td>150.0</td>\n",
       "      <td>0.515878</td>\n",
       "      <td>2021-03-20 08:18:56.216488</td>\n",
       "      <td>1</td>\n",
       "      <td>2</td>\n",
       "    </tr>\n",
       "    <tr>\n",
       "      <th>10</th>\n",
       "      <td>7.040</td>\n",
       "      <td>0.804873</td>\n",
       "      <td>0.164834</td>\n",
       "      <td>0.226977</td>\n",
       "      <td>50.0</td>\n",
       "      <td>1.556093</td>\n",
       "      <td>2021-03-20 08:18:56.216488</td>\n",
       "      <td>2</td>\n",
       "      <td>2</td>\n",
       "    </tr>\n",
       "    <tr>\n",
       "      <th>11</th>\n",
       "      <td>7.430</td>\n",
       "      <td>0.051040</td>\n",
       "      <td>0.200033</td>\n",
       "      <td>0.767017</td>\n",
       "      <td>50.0</td>\n",
       "      <td>0.504320</td>\n",
       "      <td>2021-03-20 08:18:56.216488</td>\n",
       "      <td>3</td>\n",
       "      <td>2</td>\n",
       "    </tr>\n",
       "    <tr>\n",
       "      <th>12</th>\n",
       "      <td>6.970</td>\n",
       "      <td>0.376661</td>\n",
       "      <td>0.897959</td>\n",
       "      <td>0.645962</td>\n",
       "      <td>150.0</td>\n",
       "      <td>1.574808</td>\n",
       "      <td>2021-03-20 08:18:56.216488</td>\n",
       "      <td>4</td>\n",
       "      <td>2</td>\n",
       "    </tr>\n",
       "    <tr>\n",
       "      <th>13</th>\n",
       "      <td>7.330</td>\n",
       "      <td>0.137271</td>\n",
       "      <td>0.579654</td>\n",
       "      <td>0.796733</td>\n",
       "      <td>150.0</td>\n",
       "      <td>0.047023</td>\n",
       "      <td>2021-03-20 08:32:27.774782</td>\n",
       "      <td>0</td>\n",
       "      <td>3</td>\n",
       "    </tr>\n",
       "    <tr>\n",
       "      <th>14</th>\n",
       "      <td>7.160</td>\n",
       "      <td>0.743608</td>\n",
       "      <td>0.633290</td>\n",
       "      <td>0.713132</td>\n",
       "      <td>150.0</td>\n",
       "      <td>0.076931</td>\n",
       "      <td>2021-03-20 08:32:27.774782</td>\n",
       "      <td>1</td>\n",
       "      <td>3</td>\n",
       "    </tr>\n",
       "    <tr>\n",
       "      <th>15</th>\n",
       "      <td>6.900</td>\n",
       "      <td>0.708314</td>\n",
       "      <td>0.492933</td>\n",
       "      <td>0.512829</td>\n",
       "      <td>100.0</td>\n",
       "      <td>0.169298</td>\n",
       "      <td>2021-03-20 08:32:27.774782</td>\n",
       "      <td>2</td>\n",
       "      <td>3</td>\n",
       "    </tr>\n",
       "    <tr>\n",
       "      <th>16</th>\n",
       "      <td>6.920</td>\n",
       "      <td>0.562762</td>\n",
       "      <td>0.866997</td>\n",
       "      <td>0.673367</td>\n",
       "      <td>75.0</td>\n",
       "      <td>0.040399</td>\n",
       "      <td>2021-03-20 08:32:27.774782</td>\n",
       "      <td>3</td>\n",
       "      <td>3</td>\n",
       "    </tr>\n",
       "    <tr>\n",
       "      <th>17</th>\n",
       "      <td>7.200</td>\n",
       "      <td>0.712379</td>\n",
       "      <td>0.370956</td>\n",
       "      <td>0.766367</td>\n",
       "      <td>150.0</td>\n",
       "      <td>0.356834</td>\n",
       "      <td>2021-03-20 08:32:27.774782</td>\n",
       "      <td>4</td>\n",
       "      <td>3</td>\n",
       "    </tr>\n",
       "    <tr>\n",
       "      <th>18</th>\n",
       "      <td>6.430</td>\n",
       "      <td>0.350360</td>\n",
       "      <td>0.240530</td>\n",
       "      <td>0.077885</td>\n",
       "      <td>75.0</td>\n",
       "      <td>0.241728</td>\n",
       "      <td>2021-03-20 09:55:31.945809</td>\n",
       "      <td>0</td>\n",
       "      <td>4</td>\n",
       "    </tr>\n",
       "    <tr>\n",
       "      <th>19</th>\n",
       "      <td>6.365</td>\n",
       "      <td>0.025809</td>\n",
       "      <td>0.737354</td>\n",
       "      <td>0.711513</td>\n",
       "      <td>150.0</td>\n",
       "      <td>0.805882</td>\n",
       "      <td>2021-03-20 09:55:31.945809</td>\n",
       "      <td>1</td>\n",
       "      <td>4</td>\n",
       "    </tr>\n",
       "    <tr>\n",
       "      <th>20</th>\n",
       "      <td>7.210</td>\n",
       "      <td>0.335770</td>\n",
       "      <td>0.180509</td>\n",
       "      <td>0.559482</td>\n",
       "      <td>125.0</td>\n",
       "      <td>0.466784</td>\n",
       "      <td>2021-03-20 09:55:31.945809</td>\n",
       "      <td>2</td>\n",
       "      <td>4</td>\n",
       "    </tr>\n",
       "    <tr>\n",
       "      <th>21</th>\n",
       "      <td>5.815</td>\n",
       "      <td>0.928869</td>\n",
       "      <td>0.324799</td>\n",
       "      <td>0.305388</td>\n",
       "      <td>75.0</td>\n",
       "      <td>0.825083</td>\n",
       "      <td>2021-03-20 09:55:31.945809</td>\n",
       "      <td>3</td>\n",
       "      <td>4</td>\n",
       "    </tr>\n",
       "    <tr>\n",
       "      <th>22</th>\n",
       "      <td>6.435</td>\n",
       "      <td>0.041260</td>\n",
       "      <td>0.112006</td>\n",
       "      <td>0.953576</td>\n",
       "      <td>50.0</td>\n",
       "      <td>0.408081</td>\n",
       "      <td>2021-03-20 09:55:31.945809</td>\n",
       "      <td>4</td>\n",
       "      <td>4</td>\n",
       "    </tr>\n",
       "    <tr>\n",
       "      <th>23</th>\n",
       "      <td>6.855</td>\n",
       "      <td>0.683622</td>\n",
       "      <td>0.407286</td>\n",
       "      <td>0.798433</td>\n",
       "      <td>125.0</td>\n",
       "      <td>0.140734</td>\n",
       "      <td>2021-03-20 10:04:30.791113</td>\n",
       "      <td>0</td>\n",
       "      <td>5</td>\n",
       "    </tr>\n",
       "    <tr>\n",
       "      <th>24</th>\n",
       "      <td>5.810</td>\n",
       "      <td>0.703916</td>\n",
       "      <td>0.069958</td>\n",
       "      <td>0.266349</td>\n",
       "      <td>150.0</td>\n",
       "      <td>0.372266</td>\n",
       "      <td>2021-03-20 10:04:30.791113</td>\n",
       "      <td>1</td>\n",
       "      <td>5</td>\n",
       "    </tr>\n",
       "    <tr>\n",
       "      <th>25</th>\n",
       "      <td>6.835</td>\n",
       "      <td>0.165772</td>\n",
       "      <td>0.538680</td>\n",
       "      <td>0.605614</td>\n",
       "      <td>125.0</td>\n",
       "      <td>0.165857</td>\n",
       "      <td>2021-03-20 10:04:30.791113</td>\n",
       "      <td>2</td>\n",
       "      <td>5</td>\n",
       "    </tr>\n",
       "    <tr>\n",
       "      <th>26</th>\n",
       "      <td>6.055</td>\n",
       "      <td>0.882817</td>\n",
       "      <td>0.171610</td>\n",
       "      <td>0.346779</td>\n",
       "      <td>100.0</td>\n",
       "      <td>0.340048</td>\n",
       "      <td>2021-03-20 10:04:30.791113</td>\n",
       "      <td>3</td>\n",
       "      <td>5</td>\n",
       "    </tr>\n",
       "    <tr>\n",
       "      <th>27</th>\n",
       "      <td>6.490</td>\n",
       "      <td>0.575461</td>\n",
       "      <td>0.636064</td>\n",
       "      <td>0.360976</td>\n",
       "      <td>125.0</td>\n",
       "      <td>0.951624</td>\n",
       "      <td>2021-03-20 10:04:30.791113</td>\n",
       "      <td>4</td>\n",
       "      <td>5</td>\n",
       "    </tr>\n",
       "  </tbody>\n",
       "</table>\n",
       "</div>"
      ],
      "text/plain": [
       "    metric  alpha_title  alpha_summary  alpha_tags  embed_dim  linucb_alpha  \\\n",
       "0    6.530     0.204227       0.844016    0.619194       64.0      0.448282   \n",
       "1    6.650     0.697654       0.620435    0.436997       32.0      0.439594   \n",
       "2    7.740     0.156857       0.117320    0.874268      128.0      0.113930   \n",
       "3    6.790     0.891280       0.790607    0.309218      150.0      1.606229   \n",
       "4    6.990     0.272805       0.334044    0.326977       50.0      1.888515   \n",
       "5    6.760     0.470196       0.496277    0.448109       50.0      1.760948   \n",
       "6    7.190     0.456952       0.140710    0.689346      125.0      0.340672   \n",
       "7    6.540     0.920012       0.392608    0.390364      125.0      1.509775   \n",
       "8    6.370     0.236603       0.882797    0.479563      150.0      0.821742   \n",
       "9    6.920     0.904772       0.543643    0.171517      150.0      0.515878   \n",
       "10   7.040     0.804873       0.164834    0.226977       50.0      1.556093   \n",
       "11   7.430     0.051040       0.200033    0.767017       50.0      0.504320   \n",
       "12   6.970     0.376661       0.897959    0.645962      150.0      1.574808   \n",
       "13   7.330     0.137271       0.579654    0.796733      150.0      0.047023   \n",
       "14   7.160     0.743608       0.633290    0.713132      150.0      0.076931   \n",
       "15   6.900     0.708314       0.492933    0.512829      100.0      0.169298   \n",
       "16   6.920     0.562762       0.866997    0.673367       75.0      0.040399   \n",
       "17   7.200     0.712379       0.370956    0.766367      150.0      0.356834   \n",
       "18   6.430     0.350360       0.240530    0.077885       75.0      0.241728   \n",
       "19   6.365     0.025809       0.737354    0.711513      150.0      0.805882   \n",
       "20   7.210     0.335770       0.180509    0.559482      125.0      0.466784   \n",
       "21   5.815     0.928869       0.324799    0.305388       75.0      0.825083   \n",
       "22   6.435     0.041260       0.112006    0.953576       50.0      0.408081   \n",
       "23   6.855     0.683622       0.407286    0.798433      125.0      0.140734   \n",
       "24   5.810     0.703916       0.069958    0.266349      150.0      0.372266   \n",
       "25   6.835     0.165772       0.538680    0.605614      125.0      0.165857   \n",
       "26   6.055     0.882817       0.171610    0.346779      100.0      0.340048   \n",
       "27   6.490     0.575461       0.636064    0.360976      125.0      0.951624   \n",
       "\n",
       "                     date_time  run_id  exp_id  \n",
       "0   2021-03-20 07:55:09.947522       0       0  \n",
       "1   2021-03-20 07:55:09.947522       1       0  \n",
       "2   2021-03-20 07:55:09.947522       2       0  \n",
       "3   2021-03-20 08:11:17.864302       0       1  \n",
       "4   2021-03-20 08:11:17.864302       1       1  \n",
       "5   2021-03-20 08:11:17.864302       2       1  \n",
       "6   2021-03-20 08:11:17.864302       3       1  \n",
       "7   2021-03-20 08:11:17.864302       4       1  \n",
       "8   2021-03-20 08:18:56.216488       0       2  \n",
       "9   2021-03-20 08:18:56.216488       1       2  \n",
       "10  2021-03-20 08:18:56.216488       2       2  \n",
       "11  2021-03-20 08:18:56.216488       3       2  \n",
       "12  2021-03-20 08:18:56.216488       4       2  \n",
       "13  2021-03-20 08:32:27.774782       0       3  \n",
       "14  2021-03-20 08:32:27.774782       1       3  \n",
       "15  2021-03-20 08:32:27.774782       2       3  \n",
       "16  2021-03-20 08:32:27.774782       3       3  \n",
       "17  2021-03-20 08:32:27.774782       4       3  \n",
       "18  2021-03-20 09:55:31.945809       0       4  \n",
       "19  2021-03-20 09:55:31.945809       1       4  \n",
       "20  2021-03-20 09:55:31.945809       2       4  \n",
       "21  2021-03-20 09:55:31.945809       3       4  \n",
       "22  2021-03-20 09:55:31.945809       4       4  \n",
       "23  2021-03-20 10:04:30.791113       0       5  \n",
       "24  2021-03-20 10:04:30.791113       1       5  \n",
       "25  2021-03-20 10:04:30.791113       2       5  \n",
       "26  2021-03-20 10:04:30.791113       3       5  \n",
       "27  2021-03-20 10:04:30.791113       4       5  "
      ]
     },
     "execution_count": 14,
     "metadata": {},
     "output_type": "execute_result"
    }
   ],
   "source": [
    "tuning_results_store[tuning_results_store]"
   ]
  },
  {
   "cell_type": "code",
   "execution_count": 18,
   "metadata": {},
   "outputs": [
    {
     "name": "stdout",
     "output_type": "stream",
     "text": [
      "Best hyperparameters:\n"
     ]
    },
    {
     "data": {
      "text/plain": [
       "metric                                 7.74\n",
       "alpha_title                        0.156857\n",
       "alpha_summary                       0.11732\n",
       "alpha_tags                         0.874268\n",
       "embed_dim                               128\n",
       "linucb_alpha                        0.11393\n",
       "date_time        2021-03-20 07:55:09.947522\n",
       "run_id                                    2\n",
       "exp_id                                    0\n",
       "Name: 2, dtype: object"
      ]
     },
     "execution_count": 18,
     "metadata": {},
     "output_type": "execute_result"
    }
   ],
   "source": [
    "print('Best hyperparameters:')\n",
    "tuning_results_store.loc[tuning_results_store['metric'].idxmax()]"
   ]
  },
  {
   "cell_type": "code",
   "execution_count": 28,
   "metadata": {},
   "outputs": [
    {
     "name": "stdout",
     "output_type": "stream",
     "text": [
      "Best hyperparameters:\n"
     ]
    },
    {
     "data": {
      "text/plain": [
       "metric                                 7.74\n",
       "alpha_title                        0.156857\n",
       "alpha_summary                       0.11732\n",
       "alpha_tags                         0.874268\n",
       "embed_dim                               128\n",
       "linucb_alpha                        0.11393\n",
       "date_time        2021-03-20 07:55:09.947522\n",
       "run_id                                    2\n",
       "exp_id                                    0\n",
       "Name: 2, dtype: object"
      ]
     },
     "execution_count": 28,
     "metadata": {},
     "output_type": "execute_result"
    }
   ],
   "source": [
    "print('Best hyperparameters:')\n",
    "tuning_results_store.loc[tuning_results_store['metric'].idxmax()]"
   ]
  },
  {
   "cell_type": "code",
   "execution_count": 29,
   "metadata": {},
   "outputs": [
    {
     "data": {
      "text/plain": [
       "<Figure size 432x288 with 0 Axes>"
      ]
     },
     "metadata": {},
     "output_type": "display_data"
    },
    {
     "data": {
      "image/png": "[encoded data removed]",
      "text/plain": [
       "<Figure size 432x288 with 1 Axes>"
      ]
     },
     "metadata": {
      "needs_background": "light"
     },
     "output_type": "display_data"
    },
    {
     "data": {
      "text/plain": [
       "<Figure size 432x288 with 0 Axes>"
      ]
     },
     "metadata": {},
     "output_type": "display_data"
    },
    {
     "data": {
      "image/png": "[encoded data removed]",
      "text/plain": [
       "<Figure size 432x288 with 1 Axes>"
      ]
     },
     "metadata": {
      "needs_background": "light"
     },
     "output_type": "display_data"
    },
    {
     "data": {
      "text/plain": [
       "<Figure size 432x288 with 0 Axes>"
      ]
     },
     "metadata": {},
     "output_type": "display_data"
    },
    {
     "data": {
      "image/png": "[encoded data removed]",
      "text/plain": [
       "<Figure size 432x288 with 1 Axes>"
      ]
     },
     "metadata": {
      "needs_background": "light"
     },
     "output_type": "display_data"
    },
    {
     "data": {
      "text/plain": [
       "<Figure size 432x288 with 0 Axes>"
      ]
     },
     "metadata": {},
     "output_type": "display_data"
    },
    {
     "data": {
      "image/png": "[encoded data removed]",
      "text/plain": [
       "<Figure size 432x288 with 1 Axes>"
      ]
     },
     "metadata": {
      "needs_background": "light"
     },
     "output_type": "display_data"
    },
    {
     "data": {
      "text/plain": [
       "<Figure size 432x288 with 0 Axes>"
      ]
     },
     "metadata": {},
     "output_type": "display_data"
    },
    {
     "data": {
      "image/png": "[encoded data removed]",
      "text/plain": [
       "<Figure size 432x288 with 1 Axes>"
      ]
     },
     "metadata": {
      "needs_background": "light"
     },
     "output_type": "display_data"
    }
   ],
   "source": [
    "hyperparams = ['alpha_title', 'alpha_summary', 'alpha_tags', 'embed_dim', 'linucb_alpha']\n",
    "\n",
    "for hyperparam in hyperparams:\n",
    "    plt.figure()\n",
    "    tuning_results_store.sort_values(by=hyperparam).plot(x=hyperparam, y='metric', marker='x', kind='scatter')"
   ]
  },
  {
   "cell_type": "markdown",
   "metadata": {},
   "source": [
    "# Saving preprocessed inputs"
   ]
  },
  {
   "cell_type": "code",
   "execution_count": 5,
   "metadata": {},
   "outputs": [],
   "source": [
    "from preprocessing import preprocess"
   ]
  },
  {
   "cell_type": "code",
   "execution_count": 42,
   "metadata": {},
   "outputs": [],
   "source": [
    "tuning_results_store = pd.read_csv('tuning_results_store.csv')\n",
    "tuned_hyperparams = tuning_results_store.loc[tuning_results_store['metric'].idxmax()]\n",
    "\n",
    "# preprocess\n",
    "X = preprocess(df, \n",
    "               alpha_title=tuned_hyperparams['alpha_title'], \n",
    "               alpha_summary=tuned_hyperparams['alpha_summary'], \n",
    "               alpha_tags=tuned_hyperparams['alpha_tags'], \n",
    "               embed_dim=int(tuned_hyperparams['embed_dim'])\n",
    "              )"
   ]
  },
  {
   "cell_type": "code",
   "execution_count": 65,
   "metadata": {},
   "outputs": [],
   "source": [
    "tuned_inputs = {'X': X, 'linucb_alpha': tuned_hyperparams['linucb_alpha']}\n",
    "np.save('tuned_inputs', tuned_inputs)"
   ]
  }
 ],
 "metadata": {
  "kernelspec": {
   "display_name": "reciper_swiper",
   "language": "python",
   "name": "reciper_swiper"
  },
  "language_info": {
   "codemirror_mode": {
    "name": "ipython",
    "version": 3
   },
   "file_extension": ".py",
   "mimetype": "text/x-python",
   "name": "python",
   "nbconvert_exporter": "python",
   "pygments_lexer": "ipython3",
   "version": "3.8.5"
  }
 },
 "nbformat": 4,
 "nbformat_minor": 4
}

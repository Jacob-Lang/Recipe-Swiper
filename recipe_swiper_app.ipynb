{
 "cells": [
  {
   "cell_type": "code",
   "execution_count": 1,
   "metadata": {},
   "outputs": [],
   "source": [
    "import pandas as pd\n",
    "from linucb import LinUCBModel\n",
    "from swiper import Swiper\n",
    "from preprocessing import preprocess"
   ]
  },
  {
   "cell_type": "code",
   "execution_count": 2,
   "metadata": {},
   "outputs": [],
   "source": [
    "# load data and tuned hyperparameters\n",
    "df = pd.read_json('recipe_scraper/all_cuisines.json')\n",
    "tuning_results_store = pd.read_csv('tuning_results_store.csv')\n",
    "tuned_hyperparams = tuning_results_store.loc[tuning_results_store['metric'].idxmax()]\n",
    "# preprocess\n",
    "X = preprocess(df, \n",
    "               alpha_title=tuned_hyperparams['alpha_title'], \n",
    "               alpha_summary=tuned_hyperparams['alpha_summary'], \n",
    "               alpha_tags=tuned_hyperparams['alpha_tags'], \n",
    "               embed_dim=int(tuned_hyperparams['embed_dim'])\n",
    "              )\n",
    "# instantiate model\n",
    "model = LinUCBModel(X, \n",
    "                    alpha=tuned_hyperparams['linucb_alpha']\n",
    "                   )\n",
    "# instantiate swiper\n",
    "swiper = Swiper(df, model)"
   ]
  },
  {
   "cell_type": "code",
   "execution_count": 3,
   "metadata": {},
   "outputs": [
    {
     "data": {
      "text/html": [
       "<h1 align=\"center\"> Recipe Swiper </h2>"
      ],
      "text/plain": [
       "<IPython.core.display.HTML object>"
      ]
     },
     "metadata": {},
     "output_type": "display_data"
    },
    {
     "data": {
      "text/html": [
       "<center> Looking for love in a plate of food <br> <br> <br> </center>"
      ],
      "text/plain": [
       "<IPython.core.display.HTML object>"
      ]
     },
     "metadata": {},
     "output_type": "display_data"
    },
    {
     "data": {
      "application/vnd.jupyter.widget-view+json": {
       "model_id": "bd4978e6bda54aeabd2b93a9967a9667",
       "version_major": 2,
       "version_minor": 0
      },
      "text/plain": [
       "VBox(children=(Output(layout=Layout(height='500px')), HBox(children=(Button(description='No thanks. :|', style…"
      ]
     },
     "metadata": {},
     "output_type": "display_data"
    }
   ],
   "source": [
    "swiper.run()"
   ]
  },
  {
   "cell_type": "code",
   "execution_count": null,
   "metadata": {},
   "outputs": [],
   "source": []
  },
  {
   "cell_type": "code",
   "execution_count": null,
   "metadata": {},
   "outputs": [],
   "source": []
  }
 ],
 "metadata": {
  "kernelspec": {
   "display_name": "reciper_swiper",
   "language": "python",
   "name": "reciper_swiper"
  },
  "language_info": {
   "codemirror_mode": {
    "name": "ipython",
    "version": 3
   },
   "file_extension": ".py",
   "mimetype": "text/x-python",
   "name": "python",
   "nbconvert_exporter": "python",
   "pygments_lexer": "ipython3",
   "version": "3.8.5"
  }
 },
 "nbformat": 4,
 "nbformat_minor": 4
}

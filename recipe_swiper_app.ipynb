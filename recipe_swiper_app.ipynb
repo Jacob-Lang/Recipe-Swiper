{
 "cells": [
  {
   "cell_type": "code",
   "execution_count": 1,
   "metadata": {},
   "outputs": [],
   "source": [
    "import pandas as pd\n",
    "from linucb import LinUCBModel\n",
    "from swiper import Swiper\n",
    "import numpy as np"
   ]
  },
  {
   "cell_type": "code",
   "execution_count": 2,
   "metadata": {},
   "outputs": [],
   "source": [
    "# load data and saved model\n",
    "df = pd.read_json('recipe_scraper/all_cuisines.json')\n",
    "tuned_inputs = np.load('tuned_inputs.npy', allow_pickle=True).item()\n",
    "X = tuned_inputs['X']\n",
    "linucb_alpha = tuned_inputs['linucb_alpha']\n",
    "model = LinUCBModel(X, linucb_alpha=linucb_alpha)\n",
    "# instantiate swiper\n",
    "swiper = Swiper(df, model)"
   ]
  },
  {
   "cell_type": "code",
   "execution_count": 3,
   "metadata": {},
   "outputs": [
    {
     "data": {
      "text/html": [
       "<h1 align=\"center\"> Recipe Swiper </h2>"
      ],
      "text/plain": [
       "<IPython.core.display.HTML object>"
      ]
     },
     "metadata": {},
     "output_type": "display_data"
    },
    {
     "data": {
      "text/html": [
       "<center> Looking for love in a plate of food <br> <br> <br> </center>"
      ],
      "text/plain": [
       "<IPython.core.display.HTML object>"
      ]
     },
     "metadata": {},
     "output_type": "display_data"
    },
    {
     "data": {
      "application/vnd.jupyter.widget-view+json": {
       "model_id": "29436782f10c4b3da2fd96599388e8fb",
       "version_major": 2,
       "version_minor": 0
      },
      "text/plain": [
       "VBox(children=(Output(layout=Layout(height='500px')), HBox(children=(Button(description='No thanks. :|', style…"
      ]
     },
     "metadata": {},
     "output_type": "display_data"
    }
   ],
   "source": [
    "swiper.run()"
   ]
  }
 ],
 "metadata": {
  "kernelspec": {
   "display_name": "reciper_swiper",
   "language": "python",
   "name": "reciper_swiper"
  },
  "language_info": {
   "codemirror_mode": {
    "name": "ipython",
    "version": 3
   },
   "file_extension": ".py",
   "mimetype": "text/x-python",
   "name": "python",
   "nbconvert_exporter": "python",
   "pygments_lexer": "ipython3",
   "version": "3.8.5"
  }
 },
 "nbformat": 4,
 "nbformat_minor": 4
}
